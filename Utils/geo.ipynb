{
 "cells": [
  {
   "cell_type": "code",
   "execution_count": 2,
   "metadata": {},
   "outputs": [],
   "source": [
    "\n",
    "\n",
    "import numpy as np\n",
    "import recordlinkage as rl\n",
    "from recordlinkage.base import BaseCompareFeature\n",
    "import pandas as pd\n",
    "\n",
    "class GeoTable(BaseCompareFeature):\n",
    "    '''\n",
    "    Designed for sex spectrum 1, 2, 9: 9 for unknown\n",
    "    \n",
    "    This class implements a comparison function for sex spectrum 1, 2, 9. It computes a vectorized output based on the input series s1 and s2.\n",
    "    The conditions for the comparison are as follows:\n",
    "    - If both s1 and s2 are equal to 2, the output is 1.\n",
    "    - If both s1 and s2 are equal to 1, the output is 1.\n",
    "    - If either s1 or s2 is equal to 9, the output is 0.5.\n",
    "    - For all other cases, the output is 0.\n",
    "    '''\n",
    "    # def __init__(self, s1, s2):\n",
    "    #     super(sex_1_2_9, self).__init__()\n",
    "    \n",
    "    def _compute_vectorized(self, parID_1, parID_2, pairs_within_10km, *args):\n",
    "        \n",
    "        if parID_1 == parID_2: return True\n",
    "        # # parse \"table\" contained in args\n",
    "        # pairs_within_10km = args[0]\n",
    "        \n",
    "        if parID_1 in pairs_within_10km.keys():\n",
    "            return pairs_within_10km[parID_1] == parID_2\n",
    "        else: return False\n",
    "        pass\n",
    "    \n",
    "# use\n",
    "# # read\n",
    "import pickle\n",
    "# name = \"\"\n",
    "name = \"61-51\"\n",
    "filename = f'../../Output/{name}_pool_idx.sav'\n",
    "# pickle.dump(candidates, open(filename, 'wb'))\n"
   ]
  },
  {
   "cell_type": "code",
   "execution_count": 3,
   "metadata": {},
   "outputs": [],
   "source": [
    "candidates = pickle.load(open(filename, 'rb'))[0:100]\n",
    "\n",
    "df1 = pd.read_parquet(\"../../Census_samples/Whole_proc/Whole_1861_mom_pop_sp\")\n",
    "df2 = pd.read_parquet(\"../../Census_samples/Whole_proc/Whole_1851_mom_pop_sp\")\n",
    "# [candidates.get_level_values(0).unique()].reset_index()"
   ]
  },
  {
   "cell_type": "code",
   "execution_count": 4,
   "metadata": {},
   "outputs": [
    {
     "ename": "KeyError",
     "evalue": "\"None of [Index([5, 4, 6, 10293], dtype='int64', name='recid_1')] are in the [columns]\"",
     "output_type": "error",
     "traceback": [
      "\u001b[0;31m---------------------------------------------------------------------------\u001b[0m",
      "\u001b[0;31mKeyError\u001b[0m                                  Traceback (most recent call last)",
      "Cell \u001b[0;32mIn[4], line 2\u001b[0m\n\u001b[1;32m      1\u001b[0m \u001b[38;5;66;03m# candidates.get_level_values(0)\u001b[39;00m\n\u001b[0;32m----> 2\u001b[0m df1 \u001b[38;5;241m=\u001b[39m \u001b[43mdf1\u001b[49m\u001b[43m[\u001b[49m\u001b[43mcandidates\u001b[49m\u001b[38;5;241;43m.\u001b[39;49m\u001b[43mget_level_values\u001b[49m\u001b[43m(\u001b[49m\u001b[38;5;241;43m0\u001b[39;49m\u001b[43m)\u001b[49m\u001b[38;5;241;43m.\u001b[39;49m\u001b[43munique\u001b[49m\u001b[43m(\u001b[49m\u001b[43m)\u001b[49m\u001b[43m]\u001b[49m\u001b[38;5;241m.\u001b[39mreset_index()\n",
      "File \u001b[0;32m~/.conda/envs/hist_link/lib/python3.8/site-packages/pandas/core/frame.py:3767\u001b[0m, in \u001b[0;36mDataFrame.__getitem__\u001b[0;34m(self, key)\u001b[0m\n\u001b[1;32m   3765\u001b[0m     \u001b[38;5;28;01mif\u001b[39;00m is_iterator(key):\n\u001b[1;32m   3766\u001b[0m         key \u001b[38;5;241m=\u001b[39m \u001b[38;5;28mlist\u001b[39m(key)\n\u001b[0;32m-> 3767\u001b[0m     indexer \u001b[38;5;241m=\u001b[39m \u001b[38;5;28;43mself\u001b[39;49m\u001b[38;5;241;43m.\u001b[39;49m\u001b[43mcolumns\u001b[49m\u001b[38;5;241;43m.\u001b[39;49m\u001b[43m_get_indexer_strict\u001b[49m\u001b[43m(\u001b[49m\u001b[43mkey\u001b[49m\u001b[43m,\u001b[49m\u001b[43m \u001b[49m\u001b[38;5;124;43m\"\u001b[39;49m\u001b[38;5;124;43mcolumns\u001b[39;49m\u001b[38;5;124;43m\"\u001b[39;49m\u001b[43m)\u001b[49m[\u001b[38;5;241m1\u001b[39m]\n\u001b[1;32m   3769\u001b[0m \u001b[38;5;66;03m# take() does not accept boolean indexers\u001b[39;00m\n\u001b[1;32m   3770\u001b[0m \u001b[38;5;28;01mif\u001b[39;00m \u001b[38;5;28mgetattr\u001b[39m(indexer, \u001b[38;5;124m\"\u001b[39m\u001b[38;5;124mdtype\u001b[39m\u001b[38;5;124m\"\u001b[39m, \u001b[38;5;28;01mNone\u001b[39;00m) \u001b[38;5;241m==\u001b[39m \u001b[38;5;28mbool\u001b[39m:\n",
      "File \u001b[0;32m~/.conda/envs/hist_link/lib/python3.8/site-packages/pandas/core/indexes/base.py:5877\u001b[0m, in \u001b[0;36mIndex._get_indexer_strict\u001b[0;34m(self, key, axis_name)\u001b[0m\n\u001b[1;32m   5874\u001b[0m \u001b[38;5;28;01melse\u001b[39;00m:\n\u001b[1;32m   5875\u001b[0m     keyarr, indexer, new_indexer \u001b[38;5;241m=\u001b[39m \u001b[38;5;28mself\u001b[39m\u001b[38;5;241m.\u001b[39m_reindex_non_unique(keyarr)\n\u001b[0;32m-> 5877\u001b[0m \u001b[38;5;28;43mself\u001b[39;49m\u001b[38;5;241;43m.\u001b[39;49m\u001b[43m_raise_if_missing\u001b[49m\u001b[43m(\u001b[49m\u001b[43mkeyarr\u001b[49m\u001b[43m,\u001b[49m\u001b[43m \u001b[49m\u001b[43mindexer\u001b[49m\u001b[43m,\u001b[49m\u001b[43m \u001b[49m\u001b[43maxis_name\u001b[49m\u001b[43m)\u001b[49m\n\u001b[1;32m   5879\u001b[0m keyarr \u001b[38;5;241m=\u001b[39m \u001b[38;5;28mself\u001b[39m\u001b[38;5;241m.\u001b[39mtake(indexer)\n\u001b[1;32m   5880\u001b[0m \u001b[38;5;28;01mif\u001b[39;00m \u001b[38;5;28misinstance\u001b[39m(key, Index):\n\u001b[1;32m   5881\u001b[0m     \u001b[38;5;66;03m# GH 42790 - Preserve name from an Index\u001b[39;00m\n",
      "File \u001b[0;32m~/.conda/envs/hist_link/lib/python3.8/site-packages/pandas/core/indexes/base.py:5938\u001b[0m, in \u001b[0;36mIndex._raise_if_missing\u001b[0;34m(self, key, indexer, axis_name)\u001b[0m\n\u001b[1;32m   5936\u001b[0m     \u001b[38;5;28;01mif\u001b[39;00m use_interval_msg:\n\u001b[1;32m   5937\u001b[0m         key \u001b[38;5;241m=\u001b[39m \u001b[38;5;28mlist\u001b[39m(key)\n\u001b[0;32m-> 5938\u001b[0m     \u001b[38;5;28;01mraise\u001b[39;00m \u001b[38;5;167;01mKeyError\u001b[39;00m(\u001b[38;5;124mf\u001b[39m\u001b[38;5;124m\"\u001b[39m\u001b[38;5;124mNone of [\u001b[39m\u001b[38;5;132;01m{\u001b[39;00mkey\u001b[38;5;132;01m}\u001b[39;00m\u001b[38;5;124m] are in the [\u001b[39m\u001b[38;5;132;01m{\u001b[39;00maxis_name\u001b[38;5;132;01m}\u001b[39;00m\u001b[38;5;124m]\u001b[39m\u001b[38;5;124m\"\u001b[39m)\n\u001b[1;32m   5940\u001b[0m not_found \u001b[38;5;241m=\u001b[39m \u001b[38;5;28mlist\u001b[39m(ensure_index(key)[missing_mask\u001b[38;5;241m.\u001b[39mnonzero()[\u001b[38;5;241m0\u001b[39m]]\u001b[38;5;241m.\u001b[39munique())\n\u001b[1;32m   5941\u001b[0m \u001b[38;5;28;01mraise\u001b[39;00m \u001b[38;5;167;01mKeyError\u001b[39;00m(\u001b[38;5;124mf\u001b[39m\u001b[38;5;124m\"\u001b[39m\u001b[38;5;132;01m{\u001b[39;00mnot_found\u001b[38;5;132;01m}\u001b[39;00m\u001b[38;5;124m not in index\u001b[39m\u001b[38;5;124m\"\u001b[39m)\n",
      "\u001b[0;31mKeyError\u001b[0m: \"None of [Index([5, 4, 6, 10293], dtype='int64', name='recid_1')] are in the [columns]\""
     ]
    }
   ],
   "source": [
    "# candidates.get_level_values(0)\n",
    "df1 = df1[candidates.get_level_values(0).unique()].reset_index()"
   ]
  },
  {
   "cell_type": "code",
   "execution_count": null,
   "metadata": {},
   "outputs": [
    {
     "ename": "NameError",
     "evalue": "name 'pd' is not defined",
     "output_type": "error",
     "traceback": [
      "\u001b[0;31m---------------------------------------------------------------------------\u001b[0m",
      "\u001b[0;31mNameError\u001b[0m                                 Traceback (most recent call last)",
      "Cell \u001b[0;32mIn[1], line 2\u001b[0m\n\u001b[1;32m      1\u001b[0m \u001b[38;5;66;03m# buffer_10k = pd.read_csv('/notebooks/data/Buffer_10k.csv')\u001b[39;00m\n\u001b[0;32m----> 2\u001b[0m buffer_10k \u001b[38;5;241m=\u001b[39m \u001b[43mpd\u001b[49m\u001b[38;5;241m.\u001b[39mread_csv(\u001b[38;5;124m'\u001b[39m\u001b[38;5;124m../../Census_samples/Buffer_10k.csv\u001b[39m\u001b[38;5;124m'\u001b[39m)\n\u001b[1;32m      3\u001b[0m \u001b[38;5;66;03m# par_coordinates = pd.read_csv('../Census_samples/Conparid_coordinates.csv')\u001b[39;00m\n\u001b[1;32m      5\u001b[0m pairs_within_10km \u001b[38;5;241m=\u001b[39m {pair[\u001b[38;5;124m'\u001b[39m\u001b[38;5;124mconparid_1\u001b[39m\u001b[38;5;124m'\u001b[39m]:pair[\u001b[38;5;124m'\u001b[39m\u001b[38;5;124mconparid_2\u001b[39m\u001b[38;5;124m'\u001b[39m] \u001b[38;5;28;01mfor\u001b[39;00m pair \u001b[38;5;129;01min\u001b[39;00m buffer_10k\u001b[38;5;241m.\u001b[39mto_dict(orient \u001b[38;5;241m=\u001b[39m \u001b[38;5;124m'\u001b[39m\u001b[38;5;124mrecords\u001b[39m\u001b[38;5;124m'\u001b[39m)}\n",
      "\u001b[0;31mNameError\u001b[0m: name 'pd' is not defined"
     ]
    }
   ],
   "source": [
    "# buffer_10k = pd.read_csv('/notebooks/data/Buffer_10k.csv')\n",
    "buffer_10k = pd.read_csv('../../Census_samples/Buffer_10k.csv')\n",
    "# par_coordinates = pd.read_csv('../Census_samples/Conparid_coordinates.csv')\n",
    "\n",
    "pairs_within_10km = {pair['conparid_1']:pair['conparid_2'] for pair in buffer_10k.to_dict(orient = 'records')}\n",
    "\n",
    "# from recordlinkage.index import SortedNeighbourhood\n",
    "    #     indexer = SortedNeighbourhood(\n",
    "    #     's', window=3\n",
    "    #         )\n",
    "\n",
    "index = rl.Index()\n",
    "index.full()\n",
    "candidates = index.index(df1, df2)\n",
    "\n",
    "comparer = rl.Compare(GeoTable('parID', 'parID', pairs_within_10km, label = 'par_witin_10km'))\n",
    "comparer = rl.Compare(GeoTable('birth_parID', 'birth_parID', pairs_within_10km, label = 'birth_par_witin_10km'))\n",
    "\n",
    "compared = comparer.compute(candidates, df1, df2)\n",
    "\n",
    "\n",
    "# result = result.drop(columns = ['parID_1', 'parID_2'])\n",
    "# print(f\"done with par_witin_10km\")\n",
    "\n",
    "# result = result.drop(columns = ['birth_parID_1', 'birth_parID_2'])\n",
    "# result = result[result.birth_par_witin_10km == True]\n",
    "# print(f\"done with birth_par_witin_10km\")\n",
    "# result.to_parquet('../Output/61-51_pool_geo_big.parquet')"
   ]
  }
 ],
 "metadata": {
  "kernelspec": {
   "display_name": "hist_link",
   "language": "python",
   "name": "python3"
  },
  "language_info": {
   "codemirror_mode": {
    "name": "ipython",
    "version": 3
   },
   "file_extension": ".py",
   "mimetype": "text/x-python",
   "name": "python",
   "nbconvert_exporter": "python",
   "pygments_lexer": "ipython3",
   "version": "3.8.10"
  }
 },
 "nbformat": 4,
 "nbformat_minor": 2
}
