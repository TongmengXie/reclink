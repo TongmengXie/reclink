{
 "cells": [
  {
   "cell_type": "code",
   "execution_count": 19,
   "id": "8e3130f9-b65d-4fbb-a0f1-892d11581769",
   "metadata": {},
   "outputs": [],
   "source": [
    "import pandas as pd\n",
    "import recordlinkage as rl\n",
    "import numpy as np\n",
    "import seaborn as sns\n",
    "import matplotlib.pyplot as plt\n",
    "import pyarrow\n",
    "import dask.dataframe as dd\n",
    "# get CPU count\n",
    "import multiprocessing\n",
    "import psutil\n",
    "# Function to report RAM usage\n",
    "def report_ram_usage():\n",
    "    process = psutil.Process()\n",
    "    ram_usage = process.memory_info().rss / (1024 ** 2)  # in MB\n",
    "    # print(f\"Current RAM usage: {ram_usage:.2f} MB\")\n",
    "    # human readable GiB\n",
    "    print(f\"Current RAM usage: {ram_usage / 1024:.2f} GiB\")"
   ]
  },
  {
   "cell_type": "code",
   "execution_count": 17,
   "id": "d460bd19-041e-4834-acc5-0d721dbd4835",
   "metadata": {},
   "outputs": [],
   "source": [
    "# Original Pop"
   ]
  },
  {
   "cell_type": "code",
   "execution_count": 15,
   "id": "d42b83b9-1137-4b14-b5e6-882c318bc98f",
   "metadata": {},
   "outputs": [
    {
     "data": {
      "text/plain": [
       "[17711058, 19828561, 26124585, 29509255, 32493318, 36353455]"
      ]
     },
     "execution_count": 15,
     "metadata": {},
     "output_type": "execute_result"
    }
   ],
   "source": [
    "years = {i:None for i in range(1851, 1912, 10) if i != 1871}\n",
    "\n",
    "for year in years.keys():\n",
    "    years[year] = dd.read_parquet(f\"../Census_samples/Whole_proc/Whole_{year}_mom_pop_sp\")\n",
    "\n",
    "[data.shape[0].compute() for _, data in years.items()]"
   ]
  },
  {
   "cell_type": "code",
   "execution_count": 16,
   "id": "a6aa84f8-df54-4c66-aa8d-150b15eb00ab",
   "metadata": {},
   "outputs": [
    {
     "ename": "SyntaxError",
     "evalue": "invalid syntax (3289356232.py, line 1)",
     "output_type": "error",
     "traceback": [
      "\u001b[0;36m  Cell \u001b[0;32mIn[16], line 1\u001b[0;36m\u001b[0m\n\u001b[0;31m    [assert data.shape[0].compute() == data.recid.nunique().compute() for _, data in years.items()]\u001b[0m\n\u001b[0m     ^\u001b[0m\n\u001b[0;31mSyntaxError\u001b[0m\u001b[0;31m:\u001b[0m invalid syntax\n"
     ]
    }
   ],
   "source": [
    "[data.shape[0].compute() == data.recid.nunique().compute() for _, data in years.items()]"
   ]
  },
  {
   "cell_type": "code",
   "execution_count": 20,
   "id": "a1974a92-882a-4956-b879-b7dbc6d821ea",
   "metadata": {},
   "outputs": [
    {
     "name": "stdout",
     "output_type": "stream",
     "text": [
      "Current RAM usage: 2.81 GiB\n"
     ]
    }
   ],
   "source": [
    "report_ram_usage()"
   ]
  },
  {
   "cell_type": "code",
   "execution_count": 18,
   "id": "b725a279-1026-4008-8a06-759dd77a80a9",
   "metadata": {},
   "outputs": [],
   "source": [
    "# Filtered unborn pop as left census"
   ]
  },
  {
   "cell_type": "code",
   "execution_count": 25,
   "id": "1e7f6f8c-9cad-4a9c-b2c5-54e894369185",
   "metadata": {
    "scrolled": true
   },
   "outputs": [
    {
     "data": {
      "text/plain": [
       "{'01-91': MultiIndex([(20664947,        5),\n",
       "             ( 4974262,        6),\n",
       "             (  663601,        7),\n",
       "             (   81552,       14),\n",
       "             (  502230,       15),\n",
       "             (   81570,       22),\n",
       "             (   73889,       23),\n",
       "             (   81571,       24),\n",
       "             ( 1465957,       25),\n",
       "             ( 8406447,       27),\n",
       "             ...\n",
       "             (32466113, 29509237),\n",
       "             (32466114, 29509238),\n",
       "             (32466115, 29509240),\n",
       "             (13818885, 29509242),\n",
       "             (27672237, 29509244),\n",
       "             (32465062, 29509245),\n",
       "             (32420825, 29509246),\n",
       "             (27730608, 29509247),\n",
       "             (32464418, 29509251),\n",
       "             (32464420, 29509253)],\n",
       "            names=['recid_1', 'recid_2'], length=12218510),\n",
       " '61-51': MultiIndex([( 2383011,       11),\n",
       "             ( 2845459,       18),\n",
       "             (  236451,       19),\n",
       "             ( 5686770,       22),\n",
       "             (  243175,       27),\n",
       "             ( 5742443,       52),\n",
       "             (   15772,       53),\n",
       "             (   15774,       55),\n",
       "             (  961647,       56),\n",
       "             ( 1602874,       57),\n",
       "             ...\n",
       "             (19724987, 17711030),\n",
       "             (19711143, 17711031),\n",
       "             (19706962, 17711032),\n",
       "             (19724146, 17711033),\n",
       "             (19725789, 17711035),\n",
       "             (19724686, 17711036),\n",
       "             (16903281, 17711039),\n",
       "             (19725027, 17711040),\n",
       "             (11444300, 17711042),\n",
       "             (19725024, 17711043)],\n",
       "            names=['recid_1', 'recid_2'], length=5743441),\n",
       " '11-01': MultiIndex([(35501859,        1),\n",
       "             (  136820,        5),\n",
       "             (  136821,        6),\n",
       "             (  105803,       14),\n",
       "             (16648362,       18),\n",
       "             ( 2164881,       19),\n",
       "             (20842652,       33),\n",
       "             ( 1475565,       34),\n",
       "             (35185601,       35),\n",
       "             (  105818,       37),\n",
       "             ...\n",
       "             (23035310, 32493299),\n",
       "             (22556215, 32493300),\n",
       "             ( 6117670, 32493301),\n",
       "             (26969938, 32493302),\n",
       "             (23038160, 32493304),\n",
       "             (15684880, 32493310),\n",
       "             ( 7584405, 32493311),\n",
       "             ( 2746490, 32493313),\n",
       "             (22547171, 32493315),\n",
       "             ( 2287797, 32493318)],\n",
       "            names=['recid_1', 'recid_2'], length=13681333),\n",
       " '91-81': MultiIndex([(  603089,        7),\n",
       "             ( 5794433,        9),\n",
       "             (  493913,       11),\n",
       "             ( 9563557,       15),\n",
       "             (12586769,       20),\n",
       "             ( 3607035,       21),\n",
       "             ( 3192093,       23),\n",
       "             ( 4571389,       33),\n",
       "             ( 4571390,       34),\n",
       "             (  117576,       38),\n",
       "             ...\n",
       "             (26584135, 26124568),\n",
       "             (21248743, 26124569),\n",
       "             ( 5828223, 26124571),\n",
       "             (11307534, 26124575),\n",
       "             (11375626, 26124576),\n",
       "             ( 4142291, 26124579),\n",
       "             (11957090, 26124580),\n",
       "             (  133097, 26124581),\n",
       "             (11212061, 26124586),\n",
       "             (26433461, 26124587)],\n",
       "            names=['recid_1', 'recid_2'], length=9610118),\n",
       " '81-61': MultiIndex([(12038726,        2),\n",
       "             ( 2129983,        3),\n",
       "             ( 2245453,        4),\n",
       "             ( 8093166,        5),\n",
       "             (18480491,       14),\n",
       "             (22882256,       34),\n",
       "             ( 6690792,       52),\n",
       "             ( 6476056,       56),\n",
       "             ( 9610006,       57),\n",
       "             (12604249,       59),\n",
       "             ...\n",
       "             ( 8312971, 19828485),\n",
       "             ( 2446580, 19828486),\n",
       "             ( 8311701, 19828487),\n",
       "             ( 8310635, 19828488),\n",
       "             ( 5651538, 19828500),\n",
       "             ( 8312776, 19828501),\n",
       "             ( 1811804, 19828503),\n",
       "             ( 8319045, 19828508),\n",
       "             ( 8311056, 19828516),\n",
       "             (11138855, 19828552)],\n",
       "            names=['recid_1', 'recid_2'], length=5456094)}"
      ]
     },
     "execution_count": 25,
     "metadata": {},
     "output_type": "execute_result"
    }
   ],
   "source": [
    "import pickle\n",
    "idxs = {'61-51', '81-61','91-81','01-91','11-01'}\n",
    "idxs = {idx:None for idx in idxs}\n",
    "for year in idxs:\n",
    "    with open(f'../Output/{year}_final_idx_lbirthy_filtered', 'rb') as handle:\n",
    "        idxs[year] = pickle.load(handle)\n",
    "        handle.close()\n",
    "\n",
    "idxs"
   ]
  },
  {
   "cell_type": "code",
   "execution_count": 30,
   "id": "4135988e-43ea-4f74-8d3f-72ba36748ee5",
   "metadata": {},
   "outputs": [
    {
     "data": {
      "text/plain": [
       "[12218510, 5743441, 13681333, 9610118, 5456094]"
      ]
     },
     "execution_count": 30,
     "metadata": {},
     "output_type": "execute_result"
    }
   ],
   "source": [
    "[len(idx) for i, idx in idxs.items()]"
   ]
  },
  {
   "cell_type": "code",
   "execution_count": 31,
   "id": "81103a09-c6e3-48f3-880b-a5418310ac14",
   "metadata": {},
   "outputs": [],
   "source": [
    "# Final idx"
   ]
  },
  {
   "cell_type": "code",
   "execution_count": 32,
   "id": "3ac2a8bc-a40d-484f-ba09-96d5c9eb2d15",
   "metadata": {
    "scrolled": true
   },
   "outputs": [
    {
     "data": {
      "text/plain": [
       "{'01-91': MultiIndex([(20664947,        5),\n",
       "             ( 4974262,        6),\n",
       "             (  663601,        7),\n",
       "             (   81552,       14),\n",
       "             (  502230,       15),\n",
       "             (   81570,       22),\n",
       "             (   73889,       23),\n",
       "             (   81571,       24),\n",
       "             ( 1465957,       25),\n",
       "             ( 8406447,       27),\n",
       "             ...\n",
       "             (32466113, 29509237),\n",
       "             (32466114, 29509238),\n",
       "             (32466115, 29509240),\n",
       "             (13818885, 29509242),\n",
       "             (27672237, 29509244),\n",
       "             (32465062, 29509245),\n",
       "             (32420825, 29509246),\n",
       "             (27730608, 29509247),\n",
       "             (32464418, 29509251),\n",
       "             (32464420, 29509253)],\n",
       "            names=['recid_1', 'recid_2'], length=13117367),\n",
       " '61-51': MultiIndex([( 2383011,       11),\n",
       "             ( 3830768,       12),\n",
       "             (     199,       14),\n",
       "             ( 2845459,       18),\n",
       "             (  236451,       19),\n",
       "             ( 5686770,       22),\n",
       "             (  243175,       27),\n",
       "             ( 1841450,       39),\n",
       "             (   35257,       41),\n",
       "             (   48542,       51),\n",
       "             ...\n",
       "             (19724987, 17711030),\n",
       "             (19711143, 17711031),\n",
       "             (19706962, 17711032),\n",
       "             (19724146, 17711033),\n",
       "             (19725789, 17711035),\n",
       "             (19724686, 17711036),\n",
       "             (16903281, 17711039),\n",
       "             (19725027, 17711040),\n",
       "             (11444300, 17711042),\n",
       "             (19725024, 17711043)],\n",
       "            names=['recid_1', 'recid_2'], length=6972139),\n",
       " '11-01': MultiIndex([(35501859,        1),\n",
       "             (  136820,        5),\n",
       "             (  136821,        6),\n",
       "             (  105803,       14),\n",
       "             (16648362,       18),\n",
       "             ( 2164881,       19),\n",
       "             ( 2316282,       27),\n",
       "             (20842652,       33),\n",
       "             ( 1475565,       34),\n",
       "             (35185601,       35),\n",
       "             ...\n",
       "             ( 6117670, 32493301),\n",
       "             (26969938, 32493302),\n",
       "             (23038160, 32493304),\n",
       "             (15684880, 32493310),\n",
       "             ( 7584405, 32493311),\n",
       "             ( 2746490, 32493313),\n",
       "             (35407790, 32493314),\n",
       "             (22547171, 32493315),\n",
       "             ( 4938289, 32493316),\n",
       "             ( 2287797, 32493318)],\n",
       "            names=['recid_1', 'recid_2'], length=14645997),\n",
       " '91-81': MultiIndex([(  603089,        7),\n",
       "             ( 5794433,        9),\n",
       "             (  493913,       11),\n",
       "             ( 9563557,       15),\n",
       "             (  111843,       18),\n",
       "             (12586769,       20),\n",
       "             ( 3607035,       21),\n",
       "             ( 3192093,       23),\n",
       "             (10893355,       31),\n",
       "             (  408421,       32),\n",
       "             ...\n",
       "             (26584135, 26124568),\n",
       "             (21248743, 26124569),\n",
       "             ( 5828223, 26124571),\n",
       "             (11307534, 26124575),\n",
       "             (11375626, 26124576),\n",
       "             ( 4142291, 26124579),\n",
       "             (11957090, 26124580),\n",
       "             (  133097, 26124581),\n",
       "             (11212061, 26124586),\n",
       "             (26433461, 26124587)],\n",
       "            names=['recid_1', 'recid_2'], length=10511359),\n",
       " '81-61': MultiIndex([(12038726,        2),\n",
       "             ( 2129983,        3),\n",
       "             ( 2245453,        4),\n",
       "             ( 8093166,        5),\n",
       "             (18480491,       14),\n",
       "             (24105353,       24),\n",
       "             (22882256,       34),\n",
       "             ( 6690792,       52),\n",
       "             ( 6476056,       56),\n",
       "             ( 9610006,       57),\n",
       "             ...\n",
       "             ( 8312971, 19828485),\n",
       "             ( 2446580, 19828486),\n",
       "             ( 8311701, 19828487),\n",
       "             ( 8310635, 19828488),\n",
       "             ( 5651538, 19828500),\n",
       "             ( 8312776, 19828501),\n",
       "             ( 1811804, 19828503),\n",
       "             ( 8319045, 19828508),\n",
       "             ( 8311056, 19828516),\n",
       "             (11138855, 19828552)],\n",
       "            names=['recid_1', 'recid_2'], length=7269156)}"
      ]
     },
     "execution_count": 32,
     "metadata": {},
     "output_type": "execute_result"
    }
   ],
   "source": [
    "import pickle\n",
    "idxs = {'61-51', '81-61','91-81','01-91','11-01'}\n",
    "idxs = {idx:None for idx in idxs}\n",
    "for year in idxs:\n",
    "    with open(f'../Output/{year}_final_idx', 'rb') as handle:\n",
    "        idxs[year] = pickle.load(handle)\n",
    "        handle.close()\n",
    "\n",
    "idxs"
   ]
  },
  {
   "cell_type": "code",
   "execution_count": 33,
   "id": "7fbbd8ed-3069-467e-96dd-97ec7af75e23",
   "metadata": {},
   "outputs": [
    {
     "data": {
      "text/plain": [
       "[13117367, 6972139, 14645997, 10511359, 7269156]"
      ]
     },
     "execution_count": 33,
     "metadata": {},
     "output_type": "execute_result"
    }
   ],
   "source": [
    "[len(idx) for i, idx in idxs.items()]"
   ]
  }
 ],
 "metadata": {
  "kernelspec": {
   "display_name": "Python 3 (ipykernel)",
   "language": "python",
   "name": "python3"
  },
  "language_info": {
   "codemirror_mode": {
    "name": "ipython",
    "version": 3
   },
   "file_extension": ".py",
   "mimetype": "text/x-python",
   "name": "python",
   "nbconvert_exporter": "python",
   "pygments_lexer": "ipython3",
   "version": "3.11.4"
  }
 },
 "nbformat": 4,
 "nbformat_minor": 5
}
